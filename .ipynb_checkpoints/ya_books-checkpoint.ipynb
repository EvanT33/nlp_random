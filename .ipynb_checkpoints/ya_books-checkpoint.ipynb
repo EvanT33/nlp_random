{
 "cells": [
  {
   "cell_type": "code",
   "execution_count": 1,
   "metadata": {},
   "outputs": [],
   "source": [
    "#I wanted to share this dataset as an opportunity to practice 1) the NLP skillset covered in PluralSight and 2) EDA for the Data Science Assessment. \n",
    "\n",
    "#The ask with this dataset is to present a statistical analysis of the attached data. Using whatever tools you consider appropriate, please answer the question, \"What factors make a Young Adult author more likely to be successful?\" Assume that success means a rating of 4.5 or above and a reviewer count of 100 or above. \n",
    "\n",
    "#If you choose to participate in this optional assignment, please spend a few hours and create a notebook to share by 11/20. We can then review together and share our technique + findings. My hope is that this assignment can help flesh out/standardize what we might do in a DS Assessment + provide NLP practice.\n"
   ]
  },
  {
   "cell_type": "code",
   "execution_count": 2,
   "metadata": {},
   "outputs": [],
   "source": [
    "import pandas as pd\n",
    "import numpy as np\n",
    "from sklearn import preprocessing"
   ]
  },
  {
   "cell_type": "code",
   "execution_count": 3,
   "metadata": {},
   "outputs": [
    {
     "data": {
      "text/html": [
       "<div>\n",
       "<style scoped>\n",
       "    .dataframe tbody tr th:only-of-type {\n",
       "        vertical-align: middle;\n",
       "    }\n",
       "\n",
       "    .dataframe tbody tr th {\n",
       "        vertical-align: top;\n",
       "    }\n",
       "\n",
       "    .dataframe thead th {\n",
       "        text-align: right;\n",
       "    }\n",
       "</style>\n",
       "<table border=\"1\" class=\"dataframe\">\n",
       "  <thead>\n",
       "    <tr style=\"text-align: right;\">\n",
       "      <th></th>\n",
       "      <th>Book title</th>\n",
       "      <th>Author name</th>\n",
       "      <th>Star rating</th>\n",
       "      <th>Number of reviews</th>\n",
       "      <th>Length</th>\n",
       "      <th>Publisher</th>\n",
       "    </tr>\n",
       "  </thead>\n",
       "  <tbody>\n",
       "    <tr>\n",
       "      <th>0</th>\n",
       "      <td>Mistrust</td>\n",
       "      <td>Margaret McHeyzer</td>\n",
       "      <td>4.5</td>\n",
       "      <td>64</td>\n",
       "      <td>333</td>\n",
       "      <td>Amazon</td>\n",
       "    </tr>\n",
       "    <tr>\n",
       "      <th>1</th>\n",
       "      <td>Girl in Pieces</td>\n",
       "      <td>Kathleen Glasgow</td>\n",
       "      <td>4.5</td>\n",
       "      <td>139</td>\n",
       "      <td>418</td>\n",
       "      <td>Delacorte</td>\n",
       "    </tr>\n",
       "    <tr>\n",
       "      <th>2</th>\n",
       "      <td>Just Juliet</td>\n",
       "      <td>Charlotte Reagan</td>\n",
       "      <td>4.5</td>\n",
       "      <td>369</td>\n",
       "      <td>224</td>\n",
       "      <td>Inkitt</td>\n",
       "    </tr>\n",
       "    <tr>\n",
       "      <th>3</th>\n",
       "      <td>Dork in Love ~ Tales of My Dorky Love Life: Te...</td>\n",
       "      <td>Ann Writes</td>\n",
       "      <td>4.5</td>\n",
       "      <td>9</td>\n",
       "      <td>122</td>\n",
       "      <td>Amazon</td>\n",
       "    </tr>\n",
       "    <tr>\n",
       "      <th>4</th>\n",
       "      <td>Warrior Cats: Battle (Warrior Cats (Werecat YA...</td>\n",
       "      <td>Tiyana Angel</td>\n",
       "      <td>5.0</td>\n",
       "      <td>1</td>\n",
       "      <td>52</td>\n",
       "      <td>Guardian Angel Press</td>\n",
       "    </tr>\n",
       "  </tbody>\n",
       "</table>\n",
       "</div>"
      ],
      "text/plain": [
       "                                          Book title        Author name  \\\n",
       "0                                           Mistrust  Margaret McHeyzer   \n",
       "1                                     Girl in Pieces   Kathleen Glasgow   \n",
       "2                                        Just Juliet   Charlotte Reagan   \n",
       "3  Dork in Love ~ Tales of My Dorky Love Life: Te...         Ann Writes   \n",
       "4  Warrior Cats: Battle (Warrior Cats (Werecat YA...       Tiyana Angel   \n",
       "\n",
       "   Star rating  Number of reviews  Length             Publisher  \n",
       "0          4.5                 64     333               Amazon   \n",
       "1          4.5                139     418             Delacorte  \n",
       "2          4.5                369     224                Inkitt  \n",
       "3          4.5                  9     122               Amazon   \n",
       "4          5.0                  1      52  Guardian Angel Press  "
      ]
     },
     "execution_count": 3,
     "metadata": {},
     "output_type": "execute_result"
    }
   ],
   "source": [
    "data = pd.read_csv(\"2016_YA_books.csv\")\n",
    "data.head()\n",
    "data.shape\n",
    "data.head(5)"
   ]
  },
  {
   "cell_type": "code",
   "execution_count": 4,
   "metadata": {},
   "outputs": [
    {
     "data": {
      "text/html": [
       "<div>\n",
       "<style scoped>\n",
       "    .dataframe tbody tr th:only-of-type {\n",
       "        vertical-align: middle;\n",
       "    }\n",
       "\n",
       "    .dataframe tbody tr th {\n",
       "        vertical-align: top;\n",
       "    }\n",
       "\n",
       "    .dataframe thead th {\n",
       "        text-align: right;\n",
       "    }\n",
       "</style>\n",
       "<table border=\"1\" class=\"dataframe\">\n",
       "  <thead>\n",
       "    <tr style=\"text-align: right;\">\n",
       "      <th></th>\n",
       "      <th>rating</th>\n",
       "      <th>n_reviews</th>\n",
       "      <th>length</th>\n",
       "    </tr>\n",
       "  </thead>\n",
       "  <tbody>\n",
       "    <tr>\n",
       "      <th>count</th>\n",
       "      <td>100.000000</td>\n",
       "      <td>100.00000</td>\n",
       "      <td>100.000000</td>\n",
       "    </tr>\n",
       "    <tr>\n",
       "      <th>mean</th>\n",
       "      <td>4.315000</td>\n",
       "      <td>164.55000</td>\n",
       "      <td>327.440000</td>\n",
       "    </tr>\n",
       "    <tr>\n",
       "      <th>std</th>\n",
       "      <td>0.399842</td>\n",
       "      <td>261.62601</td>\n",
       "      <td>116.095861</td>\n",
       "    </tr>\n",
       "    <tr>\n",
       "      <th>min</th>\n",
       "      <td>3.000000</td>\n",
       "      <td>1.00000</td>\n",
       "      <td>52.000000</td>\n",
       "    </tr>\n",
       "    <tr>\n",
       "      <th>25%</th>\n",
       "      <td>4.000000</td>\n",
       "      <td>28.00000</td>\n",
       "      <td>242.000000</td>\n",
       "    </tr>\n",
       "    <tr>\n",
       "      <th>50%</th>\n",
       "      <td>4.500000</td>\n",
       "      <td>74.50000</td>\n",
       "      <td>323.000000</td>\n",
       "    </tr>\n",
       "    <tr>\n",
       "      <th>75%</th>\n",
       "      <td>4.500000</td>\n",
       "      <td>179.00000</td>\n",
       "      <td>400.000000</td>\n",
       "    </tr>\n",
       "    <tr>\n",
       "      <th>max</th>\n",
       "      <td>5.000000</td>\n",
       "      <td>1591.00000</td>\n",
       "      <td>793.000000</td>\n",
       "    </tr>\n",
       "  </tbody>\n",
       "</table>\n",
       "</div>"
      ],
      "text/plain": [
       "           rating   n_reviews      length\n",
       "count  100.000000   100.00000  100.000000\n",
       "mean     4.315000   164.55000  327.440000\n",
       "std      0.399842   261.62601  116.095861\n",
       "min      3.000000     1.00000   52.000000\n",
       "25%      4.000000    28.00000  242.000000\n",
       "50%      4.500000    74.50000  323.000000\n",
       "75%      4.500000   179.00000  400.000000\n",
       "max      5.000000  1591.00000  793.000000"
      ]
     },
     "execution_count": 4,
     "metadata": {},
     "output_type": "execute_result"
    }
   ],
   "source": [
    "data = data.rename(columns = {\"Book title\":\"title\", \"Author name\":\"author\", \"Star rating\":\"rating\", \"Number of reviews\":\"n_reviews\", \"Length\":\"length\", \"Publisher\":\"pub\"})\n",
    "data.describe()"
   ]
  },
  {
   "cell_type": "code",
   "execution_count": 5,
   "metadata": {},
   "outputs": [
    {
     "name": "stdout",
     "output_type": "stream",
     "text": [
      "title 100\n",
      "author 96\n",
      "rating 5\n",
      "n_reviews 82\n",
      "length 79\n",
      "pub 56\n"
     ]
    }
   ],
   "source": [
    "#return unique value counts for each col\n",
    "\n",
    "for col in data.columns:\n",
    "    uni = np.unique(data[col])\n",
    "    print(col, np.prod(uni.shape))"
   ]
  },
  {
   "cell_type": "code",
   "execution_count": 6,
   "metadata": {},
   "outputs": [
    {
     "data": {
      "text/plain": [
       "array([[<matplotlib.axes._subplots.AxesSubplot object at 0x000001AA81E44888>,\n",
       "        <matplotlib.axes._subplots.AxesSubplot object at 0x000001AA8218E248>],\n",
       "       [<matplotlib.axes._subplots.AxesSubplot object at 0x000001AA825674C8>,\n",
       "        <matplotlib.axes._subplots.AxesSubplot object at 0x000001AA825A1608>]],\n",
       "      dtype=object)"
      ]
     },
     "execution_count": 6,
     "metadata": {},
     "output_type": "execute_result"
    },
    {
     "data": {
      "image/png": "[encoded data removed]",
      "text/plain": [
       "<Figure size 432x288 with 4 Axes>"
      ]
     },
     "metadata": {
      "needs_background": "light"
     },
     "output_type": "display_data"
    }
   ],
   "source": [
    "pd.DataFrame(data, columns = ['rating', 'n_reviews', 'length']).hist()"
   ]
  },
  {
   "cell_type": "code",
   "execution_count": 7,
   "metadata": {},
   "outputs": [
    {
     "data": {
      "text/html": [
       "<div>\n",
       "<style scoped>\n",
       "    .dataframe tbody tr th:only-of-type {\n",
       "        vertical-align: middle;\n",
       "    }\n",
       "\n",
       "    .dataframe tbody tr th {\n",
       "        vertical-align: top;\n",
       "    }\n",
       "\n",
       "    .dataframe thead th {\n",
       "        text-align: right;\n",
       "    }\n",
       "</style>\n",
       "<table border=\"1\" class=\"dataframe\">\n",
       "  <thead>\n",
       "    <tr style=\"text-align: right;\">\n",
       "      <th></th>\n",
       "      <th>title</th>\n",
       "      <th>author</th>\n",
       "      <th>rating</th>\n",
       "      <th>n_reviews</th>\n",
       "      <th>length</th>\n",
       "      <th>pub</th>\n",
       "      <th>success</th>\n",
       "    </tr>\n",
       "  </thead>\n",
       "  <tbody>\n",
       "    <tr>\n",
       "      <th>0</th>\n",
       "      <td>Mistrust</td>\n",
       "      <td>Margaret McHeyzer</td>\n",
       "      <td>4.5</td>\n",
       "      <td>64</td>\n",
       "      <td>333</td>\n",
       "      <td>Amazon</td>\n",
       "      <td>0</td>\n",
       "    </tr>\n",
       "    <tr>\n",
       "      <th>1</th>\n",
       "      <td>Girl in Pieces</td>\n",
       "      <td>Kathleen Glasgow</td>\n",
       "      <td>4.5</td>\n",
       "      <td>139</td>\n",
       "      <td>418</td>\n",
       "      <td>Delacorte</td>\n",
       "      <td>1</td>\n",
       "    </tr>\n",
       "    <tr>\n",
       "      <th>2</th>\n",
       "      <td>Just Juliet</td>\n",
       "      <td>Charlotte Reagan</td>\n",
       "      <td>4.5</td>\n",
       "      <td>369</td>\n",
       "      <td>224</td>\n",
       "      <td>Inkitt</td>\n",
       "      <td>1</td>\n",
       "    </tr>\n",
       "    <tr>\n",
       "      <th>3</th>\n",
       "      <td>Dork in Love ~ Tales of My Dorky Love Life: Te...</td>\n",
       "      <td>Ann Writes</td>\n",
       "      <td>4.5</td>\n",
       "      <td>9</td>\n",
       "      <td>122</td>\n",
       "      <td>Amazon</td>\n",
       "      <td>1</td>\n",
       "    </tr>\n",
       "    <tr>\n",
       "      <th>4</th>\n",
       "      <td>Warrior Cats: Battle (Warrior Cats (Werecat YA...</td>\n",
       "      <td>Tiyana Angel</td>\n",
       "      <td>5.0</td>\n",
       "      <td>1</td>\n",
       "      <td>52</td>\n",
       "      <td>Guardian Angel Press</td>\n",
       "      <td>1</td>\n",
       "    </tr>\n",
       "    <tr>\n",
       "      <th>5</th>\n",
       "      <td>Out of Beat (Boys of Fallout Book 1)</td>\n",
       "      <td>Cassandra Giovanni</td>\n",
       "      <td>4.5</td>\n",
       "      <td>11</td>\n",
       "      <td>231</td>\n",
       "      <td>Show not Tell Publishing</td>\n",
       "      <td>1</td>\n",
       "    </tr>\n",
       "    <tr>\n",
       "      <th>6</th>\n",
       "      <td>A Different Truth</td>\n",
       "      <td>Annette Oppenlander</td>\n",
       "      <td>4.5</td>\n",
       "      <td>25</td>\n",
       "      <td>256</td>\n",
       "      <td>Amazon</td>\n",
       "      <td>1</td>\n",
       "    </tr>\n",
       "    <tr>\n",
       "      <th>7</th>\n",
       "      <td>Tell Me Three Things</td>\n",
       "      <td>Julie Buxbaum</td>\n",
       "      <td>4.5</td>\n",
       "      <td>218</td>\n",
       "      <td>338</td>\n",
       "      <td>Delacorte</td>\n",
       "      <td>0</td>\n",
       "    </tr>\n",
       "    <tr>\n",
       "      <th>8</th>\n",
       "      <td>The Fever Code: Book Five</td>\n",
       "      <td>James Dashner</td>\n",
       "      <td>4.5</td>\n",
       "      <td>235</td>\n",
       "      <td>384</td>\n",
       "      <td>Delacorte</td>\n",
       "      <td>1</td>\n",
       "    </tr>\n",
       "    <tr>\n",
       "      <th>9</th>\n",
       "      <td>The Passion of Dolssa</td>\n",
       "      <td>Julie Berry</td>\n",
       "      <td>4.5</td>\n",
       "      <td>57</td>\n",
       "      <td>496</td>\n",
       "      <td>Viking Books for Young Readers</td>\n",
       "      <td>1</td>\n",
       "    </tr>\n",
       "  </tbody>\n",
       "</table>\n",
       "</div>"
      ],
      "text/plain": [
       "                                               title               author  \\\n",
       "0                                           Mistrust    Margaret McHeyzer   \n",
       "1                                     Girl in Pieces     Kathleen Glasgow   \n",
       "2                                        Just Juliet     Charlotte Reagan   \n",
       "3  Dork in Love ~ Tales of My Dorky Love Life: Te...           Ann Writes   \n",
       "4  Warrior Cats: Battle (Warrior Cats (Werecat YA...         Tiyana Angel   \n",
       "5               Out of Beat (Boys of Fallout Book 1)   Cassandra Giovanni   \n",
       "6                                  A Different Truth  Annette Oppenlander   \n",
       "7                               Tell Me Three Things        Julie Buxbaum   \n",
       "8                          The Fever Code: Book Five        James Dashner   \n",
       "9                              The Passion of Dolssa          Julie Berry   \n",
       "\n",
       "   rating  n_reviews  length                             pub  success  \n",
       "0     4.5         64     333                         Amazon         0  \n",
       "1     4.5        139     418                       Delacorte        1  \n",
       "2     4.5        369     224                          Inkitt        1  \n",
       "3     4.5          9     122                         Amazon         1  \n",
       "4     5.0          1      52            Guardian Angel Press        1  \n",
       "5     4.5         11     231        Show not Tell Publishing        1  \n",
       "6     4.5         25     256                         Amazon         1  \n",
       "7     4.5        218     338                       Delacorte        0  \n",
       "8     4.5        235     384                       Delacorte        1  \n",
       "9     4.5         57     496  Viking Books for Young Readers        1  "
      ]
     },
     "execution_count": 7,
     "metadata": {},
     "output_type": "execute_result"
    }
   ],
   "source": [
    "#create target variable 'success'\n",
    "data['success'] = np.where((data['rating'] > 4) & (data['n_reviews']), 1, 0)\n",
    "data.head(10)"
   ]
  },
  {
   "cell_type": "code",
   "execution_count": 8,
   "metadata": {},
   "outputs": [
    {
     "data": {
      "image/png": "[encoded data removed]",
      "text/plain": [
       "<Figure size 432x288 with 1 Axes>"
      ]
     },
     "metadata": {
      "needs_background": "light"
     },
     "output_type": "display_data"
    }
   ],
   "source": [
    "# simple linear model w 2 variables\n",
    "import matplotlib.pyplot as plt\n",
    "\n",
    "#split\n",
    "data_num = data[['length', 'rating']]\n",
    "X = data_num.iloc[:,:-1].values  #independent variable array\n",
    "y = data_num.iloc[:,1].values  #dependent variable vector\n",
    "\n",
    "from sklearn.model_selection import train_test_split\n",
    "X_train, X_test, y_train, y_test = train_test_split(X,y,test_size=1/3,random_state=0)\n",
    "\n",
    "#fit model\n",
    "from sklearn.linear_model import LinearRegression\n",
    "regressor = LinearRegression()\n",
    "regressor.fit(X_train,y_train) #actually produces the linear eqn for the data\n",
    "\n",
    "#predict\n",
    "y_pred = regressor.predict(X_test) \n",
    "y_pred\n",
    "\n",
    "\n",
    "\n",
    "#plot for the TEST\n",
    " \n",
    "plt.scatter(X_test, y_test, color='red') \n",
    "plt.plot(X_train, regressor.predict(X_train), color='blue') # plotting the regression line\n",
    " \n",
    "plt.title(\"Page Count vs Rating (Testing set)\")\n",
    " \n",
    "plt.xlabel(\"Page Count\") \n",
    "plt.ylabel(\"Rating\") \n",
    "plt.show() "
   ]
  },
  {
   "cell_type": "code",
   "execution_count": 9,
   "metadata": {},
   "outputs": [
    {
     "data": {
      "text/plain": [
       "'\\n# next steps:\\n1. split author names into M/F?\\n2. Encode publisher (prob important, if they sell on AMZN)\\n3. cluster book names? \"Trilogy\" might indicate success, but maybe not cause it?\\n'"
      ]
     },
     "execution_count": 9,
     "metadata": {},
     "output_type": "execute_result"
    }
   ],
   "source": [
    "\n",
    "'''\n",
    "# next steps:\n",
    "1. split author names into M/F?\n",
    "2. Encode publisher (prob important, if they sell on AMZN)\n",
    "3. cluster book names? \"Trilogy\" might indicate success, but maybe not cause it?\n",
    "'''\n"
   ]
  },
  {
   "cell_type": "code",
   "execution_count": null,
   "metadata": {},
   "outputs": [],
   "source": []
  }
 ],
 "metadata": {
  "kernelspec": {
   "display_name": "Python 3",
   "language": "python",
   "name": "python3"
  },
  "language_info": {
   "codemirror_mode": {
    "name": "ipython",
    "version": 3
   },
   "file_extension": ".py",
   "mimetype": "text/x-python",
   "name": "python",
   "nbconvert_exporter": "python",
   "pygments_lexer": "ipython3",
   "version": "3.7.5"
  }
 },
 "nbformat": 4,
 "nbformat_minor": 2
}
